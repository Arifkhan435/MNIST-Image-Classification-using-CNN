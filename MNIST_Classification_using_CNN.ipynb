{
  "nbformat": 4,
  "nbformat_minor": 0,
  "metadata": {
    "colab": {
      "name": "MNIST_Classification_using_CNN.ipynb",
      "provenance": []
    },
    "kernelspec": {
      "name": "python3",
      "display_name": "Python 3"
    },
    "language_info": {
      "name": "python"
    }
  },
  "cells": [
    {
      "cell_type": "markdown",
      "source": [
        "# **Importing Libraries**"
      ],
      "metadata": {
        "id": "fjPJZ0Bhi9iK"
      }
    },
    {
      "cell_type": "code",
      "execution_count": 15,
      "metadata": {
        "id": "nwg-bYYNkKpV"
      },
      "outputs": [],
      "source": [
        "import numpy as np\n",
        "import sklearn\n",
        "import matplotlib.pyplot as plt\n",
        "import pandas as pd\n",
        "import scipy as sc\n",
        "import tensorflow as tf"
      ]
    },
    {
      "cell_type": "code",
      "source": [
        "from keras.models import Sequential\n",
        "from keras.layers import Dense, Flatten, Conv2D, MaxPooling2D, Dropout"
      ],
      "metadata": {
        "id": "YSyGKcvhkYf9"
      },
      "execution_count": 16,
      "outputs": []
    },
    {
      "cell_type": "code",
      "source": [
        "# Import MNIST dataset\n",
        "from keras.datasets import mnist\n",
        "(train_x, train_y), (test_x, test_y) = mnist.load_data()"
      ],
      "metadata": {
        "id": "xI9QcvzjkdaO"
      },
      "execution_count": 17,
      "outputs": []
    },
    {
      "cell_type": "code",
      "source": [
        "print(train_x.shape)\n",
        "print(test_x.shape)"
      ],
      "metadata": {
        "colab": {
          "base_uri": "https://localhost:8080/"
        },
        "id": "W4gqUVGWkwJr",
        "outputId": "e6229ec9-d07e-4a9c-ec66-22378ca509a5"
      },
      "execution_count": 18,
      "outputs": [
        {
          "output_type": "stream",
          "name": "stdout",
          "text": [
            "(60000, 28, 28)\n",
            "(10000, 28, 28)\n"
          ]
        }
      ]
    },
    {
      "cell_type": "code",
      "source": [
        "##Scaling\n",
        "\n",
        "train_x = train_x/255.0\n",
        "test_x = test_x/255.0"
      ],
      "metadata": {
        "id": "Qf8iqqeBk6O8"
      },
      "execution_count": 19,
      "outputs": []
    },
    {
      "cell_type": "code",
      "source": [
        "train_y[5]"
      ],
      "metadata": {
        "colab": {
          "base_uri": "https://localhost:8080/"
        },
        "id": "HLpL-tfQJJj7",
        "outputId": "9f2b54a6-bb15-4a9d-ac0e-bc5de2a564b7"
      },
      "execution_count": 20,
      "outputs": [
        {
          "output_type": "execute_result",
          "data": {
            "text/plain": [
              "2"
            ]
          },
          "metadata": {},
          "execution_count": 20
        }
      ]
    },
    {
      "cell_type": "code",
      "source": [
        "## Let's show some Hand written Digits\n",
        "\n",
        "digits = train_x[300]\n",
        "digits_image = digits.reshape(28,28) "
      ],
      "metadata": {
        "id": "lrAZ8gT0KOIH"
      },
      "execution_count": 21,
      "outputs": []
    },
    {
      "cell_type": "code",
      "source": [
        "import matplotlib\n",
        "plt.imshow(digits_image, cmap=matplotlib.cm.binary, interpolation='nearest')"
      ],
      "metadata": {
        "colab": {
          "base_uri": "https://localhost:8080/",
          "height": 282
        },
        "id": "wpVluemOKzbX",
        "outputId": "eb32f52a-3778-4129-fcaf-9c81c9c94ae3"
      },
      "execution_count": 22,
      "outputs": [
        {
          "output_type": "execute_result",
          "data": {
            "text/plain": [
              "<matplotlib.image.AxesImage at 0x7fa5f635d910>"
            ]
          },
          "metadata": {},
          "execution_count": 22
        },
        {
          "output_type": "display_data",
          "data": {
            "text/plain": [
              "<Figure size 432x288 with 1 Axes>"
            ],
            "image/png": "[encoded data removed]"
          },
          "metadata": {
            "needs_background": "light"
          }
        }
      ]
    },
    {
      "cell_type": "code",
      "source": [
        "\n",
        "digits_2 = train_x[5000]\n",
        "digits_image_2 = digits_2.reshape(28,28) \n",
        "plt.imshow(digits_image_2, cmap=matplotlib.cm.binary, interpolation='nearest')"
      ],
      "metadata": {
        "colab": {
          "base_uri": "https://localhost:8080/",
          "height": 282
        },
        "id": "DxrgQlGFLSIU",
        "outputId": "0b34a3a2-1d17-476a-8d25-bcdf1b916e66"
      },
      "execution_count": 23,
      "outputs": [
        {
          "output_type": "execute_result",
          "data": {
            "text/plain": [
              "<matplotlib.image.AxesImage at 0x7fa5f62c8410>"
            ]
          },
          "metadata": {},
          "execution_count": 23
        },
        {
          "output_type": "display_data",
          "data": {
            "text/plain": [
              "<Figure size 432x288 with 1 Axes>"
            ],
            "image/png": "[encoded data removed]"
          },
          "metadata": {
            "needs_background": "light"
          }
        }
      ]
    },
    {
      "cell_type": "code",
      "source": [
        ""
      ],
      "metadata": {
        "id": "GOFsImrvLSGf"
      },
      "execution_count": null,
      "outputs": []
    },
    {
      "cell_type": "markdown",
      "source": [
        "# **Build the CNN Model**"
      ],
      "metadata": {
        "id": "eKrAt4FsldXp"
      }
    },
    {
      "cell_type": "code",
      "source": [
        "from keras.layers.pooling import MaxPooling1D\n",
        "model = Sequential()\n",
        "#Input and first hidden  layer\n",
        "model.add(Conv2D(64,(3,3), activation=\"relu\", input_shape=(28,28,1)))\n",
        "model.add(MaxPooling2D((2,2)))\n",
        "model.add(Dropout(0.2))\n",
        "\n",
        "\n",
        "#second hidden layer\n",
        "\n",
        "model.add(Conv2D(128,(3,3), activation=\"relu\", input_shape=(28,28,1)))\n",
        "model.add(MaxPooling2D((2,2)))\n",
        "model.add(Dropout(0.2))\n",
        "\n",
        "#third hidden layer\n",
        "model.add(Conv2D(256,(3,3), activation=\"relu\", input_shape=(28,28,1)))\n",
        "model.add(MaxPooling2D((2,2)))\n",
        "model.add(Dropout(0.2))\n",
        "\n",
        "\n",
        "#Flattening\n",
        "model.add(Flatten())\n",
        "\n",
        "# Dense layer\n",
        "model.add(Dense(64,activation=\"relu\"))\n",
        "\n",
        "#output layer with 10 output classes\n",
        "model.add(Dense(10, activation=\"softmax\"))"
      ],
      "metadata": {
        "id": "JyysI0JXk-BI"
      },
      "execution_count": 24,
      "outputs": []
    },
    {
      "cell_type": "markdown",
      "source": [
        "# **Compile the CNN Model**"
      ],
      "metadata": {
        "id": "RAEPyvFalYr4"
      }
    },
    {
      "cell_type": "code",
      "source": [
        "model.compile(optimizer=\"adam\", loss=\"sparse_categorical_crossentropy\", metrics=[\"accuracy\"])"
      ],
      "metadata": {
        "id": "17DyVkBilGmU"
      },
      "execution_count": 25,
      "outputs": []
    },
    {
      "cell_type": "code",
      "source": [
        ""
      ],
      "metadata": {
        "id": "lyfZdr3mlr-q"
      },
      "execution_count": null,
      "outputs": []
    },
    {
      "cell_type": "markdown",
      "source": [
        "# **Execute the Model**"
      ],
      "metadata": {
        "id": "CEcyCCJOlsjU"
      }
    },
    {
      "cell_type": "code",
      "source": [
        "history = model.fit(train_x,train_y, epochs=10, validation_split=0.25)\n",
        "model.save(\"mnist.h5\")"
      ],
      "metadata": {
        "colab": {
          "base_uri": "https://localhost:8080/"
        },
        "id": "jOqVOSWdlLiq",
        "outputId": "80a99cfd-4c42-4dbe-d4a8-0b3205ce07e9"
      },
      "execution_count": 27,
      "outputs": [
        {
          "output_type": "stream",
          "name": "stdout",
          "text": [
            "Epoch 1/10\n",
            "1407/1407 [==============================] - 197s 140ms/step - loss: 0.0263 - accuracy: 0.9915 - val_loss: 0.0425 - val_accuracy: 0.9889\n",
            "Epoch 2/10\n",
            "1407/1407 [==============================] - 195s 139ms/step - loss: 0.0230 - accuracy: 0.9922 - val_loss: 0.0388 - val_accuracy: 0.9885\n",
            "Epoch 3/10\n",
            "1407/1407 [==============================] - 196s 139ms/step - loss: 0.0231 - accuracy: 0.9927 - val_loss: 0.0455 - val_accuracy: 0.9879\n",
            "Epoch 4/10\n",
            "1407/1407 [==============================] - 169s 120ms/step - loss: 0.0209 - accuracy: 0.9934 - val_loss: 0.0420 - val_accuracy: 0.9894\n",
            "Epoch 5/10\n",
            "1407/1407 [==============================] - 153s 109ms/step - loss: 0.0224 - accuracy: 0.9929 - val_loss: 0.0514 - val_accuracy: 0.9879\n",
            "Epoch 6/10\n",
            "1407/1407 [==============================] - 152s 108ms/step - loss: 0.0172 - accuracy: 0.9942 - val_loss: 0.0547 - val_accuracy: 0.9859\n",
            "Epoch 7/10\n",
            "1407/1407 [==============================] - 149s 106ms/step - loss: 0.0210 - accuracy: 0.9933 - val_loss: 0.0425 - val_accuracy: 0.9893\n",
            "Epoch 8/10\n",
            "1407/1407 [==============================] - 149s 106ms/step - loss: 0.0188 - accuracy: 0.9940 - val_loss: 0.0527 - val_accuracy: 0.9875\n",
            "Epoch 9/10\n",
            "1407/1407 [==============================] - 150s 107ms/step - loss: 0.0162 - accuracy: 0.9950 - val_loss: 0.0524 - val_accuracy: 0.9887\n",
            "Epoch 10/10\n",
            "1407/1407 [==============================] - 150s 107ms/step - loss: 0.0173 - accuracy: 0.9944 - val_loss: 0.0507 - val_accuracy: 0.9890\n"
          ]
        }
      ]
    },
    {
      "cell_type": "code",
      "source": [
        "model.summary()"
      ],
      "metadata": {
        "id": "xp1mHbDAcydR",
        "outputId": "9eb320be-d08d-447c-fe5a-025ceeb3f7c7",
        "colab": {
          "base_uri": "https://localhost:8080/"
        }
      },
      "execution_count": 28,
      "outputs": [
        {
          "output_type": "stream",
          "name": "stdout",
          "text": [
            "Model: \"sequential\"\n",
            "_________________________________________________________________\n",
            " Layer (type)                Output Shape              Param #   \n",
            "=================================================================\n",
            " conv2d (Conv2D)             (None, 26, 26, 64)        640       \n",
            "                                                                 \n",
            " max_pooling2d (MaxPooling2D  (None, 13, 13, 64)       0         \n",
            " )                                                               \n",
            "                                                                 \n",
            " dropout (Dropout)           (None, 13, 13, 64)        0         \n",
            "                                                                 \n",
            " conv2d_1 (Conv2D)           (None, 11, 11, 128)       73856     \n",
            "                                                                 \n",
            " max_pooling2d_1 (MaxPooling  (None, 5, 5, 128)        0         \n",
            " 2D)                                                             \n",
            "                                                                 \n",
            " dropout_1 (Dropout)         (None, 5, 5, 128)         0         \n",
            "                                                                 \n",
            " conv2d_2 (Conv2D)           (None, 3, 3, 256)         295168    \n",
            "                                                                 \n",
            " max_pooling2d_2 (MaxPooling  (None, 1, 1, 256)        0         \n",
            " 2D)                                                             \n",
            "                                                                 \n",
            " dropout_2 (Dropout)         (None, 1, 1, 256)         0         \n",
            "                                                                 \n",
            " flatten (Flatten)           (None, 256)               0         \n",
            "                                                                 \n",
            " dense (Dense)               (None, 64)                16448     \n",
            "                                                                 \n",
            " dense_1 (Dense)             (None, 10)                650       \n",
            "                                                                 \n",
            "=================================================================\n",
            "Total params: 386,762\n",
            "Trainable params: 386,762\n",
            "Non-trainable params: 0\n",
            "_________________________________________________________________\n"
          ]
        }
      ]
    },
    {
      "cell_type": "markdown",
      "source": [
        "# **Plot the Train and Validation Accuracy vs the number of epochs**"
      ],
      "metadata": {
        "id": "mtM3VAp9mPKQ"
      }
    },
    {
      "cell_type": "code",
      "source": [
        "plt.plot(history.history[\"accuracy\"], label=\"training Accuracy\")\n",
        "plt.plot(history.history[\"val_accuracy\"], label=\"Validation Accuracy\")\n",
        "plt.xlabel(\"Number of Epochs\")\n",
        "plt.ylabel(\"Accuracy\")\n",
        "plt.legend()\n",
        "plt.title(\"Accuracy VS Epochs\")"
      ],
      "metadata": {
        "colab": {
          "base_uri": "https://localhost:8080/",
          "height": 312
        },
        "id": "1c6lgYqhlPJu",
        "outputId": "54ccd179-1ada-462a-9a0f-e92a38e90475"
      },
      "execution_count": 29,
      "outputs": [
        {
          "output_type": "execute_result",
          "data": {
            "text/plain": [
              "Text(0.5, 1.0, 'Accuracy VS Epochs')"
            ]
          },
          "metadata": {},
          "execution_count": 29
        },
        {
          "output_type": "display_data",
          "data": {
            "text/plain": [
              "<Figure size 432x288 with 1 Axes>"
            ],
            "image/png": "[encoded data removed]"
          },
          "metadata": {
            "needs_background": "light"
          }
        }
      ]
    },
    {
      "cell_type": "markdown",
      "source": [
        "# **Plot the train and Validation Loss vs the number of epochs**"
      ],
      "metadata": {
        "id": "yx3mbWhDmdPq"
      }
    },
    {
      "cell_type": "code",
      "source": [
        "plt.plot(history.history[\"loss\"], label=\"training Loss\")\n",
        "plt.plot(history.history[\"val_loss\"], label=\"Validation Loss\")\n",
        "plt.xlabel(\"Number of Epochs\")\n",
        "plt.ylabel(\"Loss\")\n",
        "plt.legend()\n",
        "plt.title(\"Loss VS Epochs\")"
      ],
      "metadata": {
        "colab": {
          "base_uri": "https://localhost:8080/",
          "height": 312
        },
        "id": "Up_jeLa7lU5T",
        "outputId": "b18991c6-74b0-43a5-9fa3-b3842874c26d"
      },
      "execution_count": 30,
      "outputs": [
        {
          "output_type": "execute_result",
          "data": {
            "text/plain": [
              "Text(0.5, 1.0, 'Loss VS Epochs')"
            ]
          },
          "metadata": {},
          "execution_count": 30
        },
        {
          "output_type": "display_data",
          "data": {
            "text/plain": [
              "<Figure size 432x288 with 1 Axes>"
            ],
            "image/png": "[encoded data removed]"
          },
          "metadata": {
            "needs_background": "light"
          }
        }
      ]
    },
    {
      "cell_type": "markdown",
      "source": [
        "## **Evaluate the Test Accuracy**"
      ],
      "metadata": {
        "id": "JAqpmPTrmoRF"
      }
    },
    {
      "cell_type": "code",
      "source": [
        "y_pred = model.predict(test_x)\n",
        "y_pred[1]"
      ],
      "metadata": {
        "colab": {
          "base_uri": "https://localhost:8080/"
        },
        "id": "MlGbbEsgOAe7",
        "outputId": "f52bacda-b69e-4130-a1dc-3f5a6a0f3bb2"
      },
      "execution_count": 31,
      "outputs": [
        {
          "output_type": "execute_result",
          "data": {
            "text/plain": [
              "array([1.7888435e-06, 2.6338179e-07, 9.9999702e-01, 2.4978425e-07,\n",
              "       6.4373279e-10, 3.1391106e-10, 7.1082674e-08, 1.4302842e-07,\n",
              "       3.6901389e-09, 4.0035650e-07], dtype=float32)"
            ]
          },
          "metadata": {},
          "execution_count": 31
        }
      ]
    },
    {
      "cell_type": "code",
      "source": [
        "np.argmax(y_pred[1])"
      ],
      "metadata": {
        "colab": {
          "base_uri": "https://localhost:8080/"
        },
        "id": "RGEFZjrPOAde",
        "outputId": "8f88369b-bcba-45fb-c7e3-598915902434"
      },
      "execution_count": 32,
      "outputs": [
        {
          "output_type": "execute_result",
          "data": {
            "text/plain": [
              "2"
            ]
          },
          "metadata": {},
          "execution_count": 32
        }
      ]
    },
    {
      "cell_type": "code",
      "source": [
        "y_predicted_labels = [np.argmax(i) for i in y_pred]\n",
        "y_predicted_labels[:5]"
      ],
      "metadata": {
        "colab": {
          "base_uri": "https://localhost:8080/"
        },
        "id": "sloF-y65OAbe",
        "outputId": "d3bc69a0-f07a-4f7c-f7ef-e1fdf5063fe1"
      },
      "execution_count": 33,
      "outputs": [
        {
          "output_type": "execute_result",
          "data": {
            "text/plain": [
              "[7, 2, 1, 0, 4]"
            ]
          },
          "metadata": {},
          "execution_count": 33
        }
      ]
    },
    {
      "cell_type": "code",
      "source": [
        "test_y[:5]"
      ],
      "metadata": {
        "colab": {
          "base_uri": "https://localhost:8080/"
        },
        "id": "NiXF0Ti_OAZU",
        "outputId": "796ff9ad-2989-4a82-af72-545746efde03"
      },
      "execution_count": 34,
      "outputs": [
        {
          "output_type": "execute_result",
          "data": {
            "text/plain": [
              "array([7, 2, 1, 0, 4], dtype=uint8)"
            ]
          },
          "metadata": {},
          "execution_count": 34
        }
      ]
    },
    {
      "cell_type": "markdown",
      "source": [
        "# **Confusion Matrix**"
      ],
      "metadata": {
        "id": "IIXUEBb1eg-D"
      }
    },
    {
      "cell_type": "code",
      "source": [
        "from sklearn.metrics import confusion_matrix, accuracy_score\n",
        "cm = confusion_matrix(test_y,y_predicted_labels)\n",
        "cm"
      ],
      "metadata": {
        "colab": {
          "base_uri": "https://localhost:8080/"
        },
        "id": "pgolt-gHOAXa",
        "outputId": "2884e79d-7d89-4568-9b62-268d1c439b0d"
      },
      "execution_count": 40,
      "outputs": [
        {
          "output_type": "execute_result",
          "data": {
            "text/plain": [
              "array([[ 974,    1,    0,    0,    1,    0,    2,    2,    0,    0],\n",
              "       [   0, 1132,    0,    0,    1,    0,    1,    1,    0,    0],\n",
              "       [   1,    1, 1010,    1,    2,    0,    4,   13,    0,    0],\n",
              "       [   0,    0,    1,  998,    0,    6,    0,    3,    1,    1],\n",
              "       [   0,    0,    0,    0,  977,    0,    0,    0,    0,    5],\n",
              "       [   3,    2,    0,    2,    0,  882,    2,    1,    0,    0],\n",
              "       [   1,    2,    0,    0,    1,    2,  952,    0,    0,    0],\n",
              "       [   1,    3,    3,    0,    0,    1,    0, 1015,    1,    4],\n",
              "       [   1,    0,    1,    0,    2,    1,    0,    0,  967,    2],\n",
              "       [   0,    0,    0,    0,    5,    2,    1,    0,    1, 1000]])"
            ]
          },
          "metadata": {},
          "execution_count": 40
        }
      ]
    },
    {
      "cell_type": "code",
      "source": [
        "import seaborn as sns\n",
        "plt.figure(figsize=(12,8))\n",
        "sns.heatmap(cm, annot=True, fmt='d', square=True)\n",
        "plt.xlabel('Predicted')\n",
        "plt.ylabel('Actual')"
      ],
      "metadata": {
        "colab": {
          "base_uri": "https://localhost:8080/",
          "height": 514
        },
        "id": "vx96HykgOAU1",
        "outputId": "50ebb5d6-b9a5-4b4d-ea49-56f42ac03490"
      },
      "execution_count": 41,
      "outputs": [
        {
          "output_type": "execute_result",
          "data": {
            "text/plain": [
              "Text(187.80000000000013, 0.5, 'Actual')"
            ]
          },
          "metadata": {},
          "execution_count": 41
        },
        {
          "output_type": "display_data",
          "data": {
            "text/plain": [
              "<Figure size 864x576 with 2 Axes>"
            ],
            "image/png": "[encoded data removed]"
          },
          "metadata": {
            "needs_background": "light"
          }
        }
      ]
    },
    {
      "cell_type": "code",
      "source": [
        "model.evaluate(test_x, test_y)"
      ],
      "metadata": {
        "colab": {
          "base_uri": "https://localhost:8080/"
        },
        "id": "U-tjdF-J9yiH",
        "outputId": "919ab7e7-9351-48bc-8e58-86e02a8ec23d"
      },
      "execution_count": 45,
      "outputs": [
        {
          "output_type": "stream",
          "name": "stdout",
          "text": [
            "313/313 [==============================] - 7s 21ms/step - loss: 0.0437 - accuracy: 0.9907\n"
          ]
        },
        {
          "output_type": "execute_result",
          "data": {
            "text/plain": [
              "[0.04368983209133148, 0.9907000064849854]"
            ]
          },
          "metadata": {},
          "execution_count": 45
        }
      ]
    }
  ]
}